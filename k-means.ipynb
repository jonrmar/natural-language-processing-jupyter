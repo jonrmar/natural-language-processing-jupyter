{
 "cells": [
  {
   "cell_type": "code",
   "execution_count": 1,
   "metadata": {
    "collapsed": true
   },
   "outputs": [],
   "source": [
    "from sklearn.feature_extraction.text import TfidfVectorizer\n",
    "from sklearn.cluster import KMeans\n",
    "from sklearn.metrics import adjusted_rand_score\n",
    "from nltk.corpus import stopwords\n",
    "from nltk import word_tokenize\n",
    "import nltk"
   ]
  },
  {
   "cell_type": "code",
   "execution_count": 20,
   "metadata": {
    "collapsed": true
   },
   "outputs": [],
   "source": [
    "documents = [\"Quero viajar\",\n",
    "\"Quero tirar ferias\",\n",
    "\"Comprar remedio na farmacia\",\n",
    "\"Passear no shopping\",\n",
    "\"Sair de casa\",\n",
    "\"Fazer compras\",\n",
    "\"Ir ao supermercado\",\n",
    "\"Viajar para fora\",\n",
    "\"Ir de aviao\"]"
   ]
  },
  {
   "cell_type": "code",
   "execution_count": 21,
   "metadata": {
    "collapsed": true
   },
   "outputs": [],
   "source": [
    "def remove_stop(tokens):\n",
    "    stop_words = set(stopwords.words('portuguese'))\n",
    "    filtered_sentence = []\n",
    "    for w in tokens:\n",
    "        if w not in stop_words:\n",
    "            filtered_sentence.append(w)\n",
    "    return filtered_sentence;"
   ]
  },
  {
   "cell_type": "code",
   "execution_count": 22,
   "metadata": {},
   "outputs": [
    {
     "name": "stdout",
     "output_type": "stream",
     "text": [
      "['quero viajar', 'quero tirar ferias', 'comprar remedio farmacia', 'passear shopping', 'sair casa', 'fazer compras', 'ir supermercado', 'viajar', 'ir aviao']\n"
     ]
    }
   ],
   "source": [
    "no_stops = []\n",
    "for text in documents:\n",
    "    to_lower = text.lower()\n",
    "    tokenize = word_tokenize(to_lower)\n",
    "    no_stop = \" \".join(remove_stop(tokenize))\n",
    "    no_stops.append(no_stop)\n",
    "print(no_stops)"
   ]
  },
  {
   "cell_type": "code",
   "execution_count": 23,
   "metadata": {},
   "outputs": [
    {
     "name": "stdout",
     "output_type": "stream",
     "text": [
      "  (0, 9)\t0.707106781187\n",
      "  (0, 15)\t0.707106781187\n",
      "  (1, 9)\t0.512748347554\n",
      "  (1, 14)\t0.607078714864\n",
      "  (1, 6)\t0.607078714864\n",
      "  (2, 2)\t0.57735026919\n",
      "  (2, 10)\t0.57735026919\n",
      "  (2, 4)\t0.57735026919\n",
      "  (3, 8)\t0.707106781187\n",
      "  (3, 12)\t0.707106781187\n",
      "  (4, 11)\t0.707106781187\n",
      "  (4, 1)\t0.707106781187\n",
      "  (5, 5)\t0.707106781187\n",
      "  (5, 3)\t0.707106781187\n",
      "  (6, 7)\t0.645257285775\n",
      "  (6, 13)\t0.763965336356\n",
      "  (7, 15)\t1.0\n",
      "  (8, 7)\t0.645257285775\n",
      "  (8, 0)\t0.763965336356\n"
     ]
    }
   ],
   "source": [
    "vectorizer = TfidfVectorizer()\n",
    "X = vectorizer.fit_transform(no_stops)\n",
    "print(X)"
   ]
  },
  {
   "cell_type": "code",
   "execution_count": 26,
   "metadata": {},
   "outputs": [
    {
     "data": {
      "text/plain": [
       "KMeans(algorithm='auto', copy_x=True, init='k-means++', max_iter=1000,\n",
       "    n_clusters=2, n_init=10, n_jobs=1, precompute_distances='auto',\n",
       "    random_state=None, tol=0.0001, verbose=0)"
      ]
     },
     "execution_count": 26,
     "metadata": {},
     "output_type": "execute_result"
    }
   ],
   "source": [
    "model = KMeans(n_clusters=2, init='k-means++', max_iter=1000)\n",
    "model.fit(X)"
   ]
  },
  {
   "cell_type": "code",
   "execution_count": 25,
   "metadata": {},
   "outputs": [
    {
     "name": "stdout",
     "output_type": "stream",
     "text": [
      "Top terms per cluster:\n",
      "Cluster 0:  ir  supermercado  aviao  shopping  sair  passear  fazer  compras  casa  remedio\n",
      "Cluster 1:  viajar  quero  tirar  supermercado  shopping  sair  remedio  passear  ir  ferias\n",
      "Cluster 2:  tirar  ferias  quero  viajar  supermercado  shopping  sair  remedio  passear  ir\n"
     ]
    }
   ],
   "source": [
    "print(\"Top terms per cluster:\")\n",
    "order_centroids = model.cluster_centers_.argsort()[:, ::-1]\n",
    "terms = vectorizer.get_feature_names()\n",
    "for i in range(3):\n",
    "    print(\"Cluster %d:\" % i),\n",
    "    for ind in order_centroids[i, :10]:\n",
    "        print(' %s' % terms[ind]),\n",
    "    print"
   ]
  },
  {
   "cell_type": "code",
   "execution_count": null,
   "metadata": {
    "collapsed": true
   },
   "outputs": [],
   "source": []
  }
 ],
 "metadata": {
  "kernelspec": {
   "display_name": "Python 2",
   "language": "python",
   "name": "python2"
  },
  "language_info": {
   "codemirror_mode": {
    "name": "ipython",
    "version": 2
   },
   "file_extension": ".py",
   "mimetype": "text/x-python",
   "name": "python",
   "nbconvert_exporter": "python",
   "pygments_lexer": "ipython2",
   "version": "2.7.14"
  }
 },
 "nbformat": 4,
 "nbformat_minor": 2
}
